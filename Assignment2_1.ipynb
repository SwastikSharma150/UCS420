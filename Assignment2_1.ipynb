{
  "cells": [
    {
      "cell_type": "code",
      "execution_count": 1,
      "metadata": {
        "outputId": "062fe975-7a89-44ca-c105-cc04dfca5e56",
        "colab": {
          "base_uri": "https://localhost:8080/"
        },
        "id": "KY_1s2ZAjhzB"
      },
      "outputs": [
        {
          "output_type": "stream",
          "name": "stdout",
          "text": [
            "List:  [10, 20, 30, 40, 50, 60, 70, 80]\n",
            "After adding elements:  [10, 20, 30, 40, 50, 60, 70, 80, 200, 300]\n",
            "After removing elements:  [20, 40, 50, 60, 70, 80, 200, 300]\n",
            "After sorting:  [20, 40, 50, 60, 70, 80, 200, 300]\n",
            "After sorting in reverse order:  [300, 200, 80, 70, 60, 50, 40, 20]\n"
          ]
        }
      ],
      "source": [
        "L = [10, 20, 30, 40, 50, 60, 70, 80]\n",
        "print(\"List: \", L)\n",
        "L.append(200)\n",
        "L.append(300)\n",
        "\n",
        "print(\"After adding elements: \",L)\n",
        "L.remove(10)\n",
        "L.remove(30)\n",
        "\n",
        "print(\"After removing elements: \",L)\n",
        "L.sort()\n",
        "print(\"After sorting: \",L)\n",
        "\n",
        "L.sort(reverse = True)\n",
        "print(\"After sorting in reverse order: \",L)"
      ],
      "id": "KY_1s2ZAjhzB"
    },
    {
      "cell_type": "code",
      "execution_count": null,
      "metadata": {
        "outputId": "359daa9b-dbdd-4070-c06f-f90d5b333e4c",
        "id": "ur4auOv3jiGP"
      },
      "outputs": [
        {
          "name": "stdout",
          "output_type": "stream",
          "text": [
            "List:  [10, 20, 30, 40, 50, 60, 70, 80]\n",
            "After adding elements:  [10, 20, 30, 40, 50, 60, 70, 80, 200, 300]\n",
            "After removing elements:  [20, 40, 50, 60, 70, 80, 200, 300]\n",
            "After sorting:  [20, 40, 50, 60, 70, 80, 200, 300]\n",
            "After sorting in reverse order:  [300, 200, 80, 70, 60, 50, 40, 20]\n"
          ]
        }
      ],
      "source": [
        "L = [10, 20, 30, 40, 50, 60, 70, 80]\n",
        "print(\"List: \", L)\n",
        "L.append(200)\n",
        "L.append(300)\n",
        "\n",
        "print(\"After adding elements: \",L)\n",
        "L.remove(10)\n",
        "L.remove(30)\n",
        "print(\"After removing elements: \",L)\n",
        "L.sort()\n",
        "print(\"After sorting: \",L)\n",
        "\n",
        "L.sort(reverse = True)\n",
        "print(\"After sorting in reverse order: \",L)"
      ],
      "id": "ur4auOv3jiGP"
    },
    {
      "cell_type": "markdown",
      "id": "2359099a-09e0-4cb6-ade2-fb8a28a10513",
      "metadata": {
        "id": "2359099a-09e0-4cb6-ade2-fb8a28a10513"
      },
      "source": [
        "Assignment 2.1"
      ]
    },
    {
      "cell_type": "markdown",
      "id": "cafb8bfa-5075-44a0-a867-cd7951b22e1e",
      "metadata": {
        "id": "cafb8bfa-5075-44a0-a867-cd7951b22e1e"
      },
      "source": [
        "---------------------------------------------------------------------------------------------------------------------------------------------\n",
        "1. Create a List L that is defined as= [10, 20, 30, 40, 50, 60, 70, 80].\n",
        "    i. WAP to add 200 and 300 to L.\n",
        "    ii. WAP to remove 10 and 30 from L.\n",
        "    iii. WAP to sort L in ascending order.\n",
        "    iv. WAP to sort L in descending order.\n",
        "---------------------------------------------------------------------------------------------------------------------------------------------"
      ]
    },
    {
      "cell_type": "code",
      "execution_count": null,
      "id": "344688d6-74d8-4e3f-ae1e-236b226fe4be",
      "metadata": {
        "id": "344688d6-74d8-4e3f-ae1e-236b226fe4be",
        "outputId": "359daa9b-dbdd-4070-c06f-f90d5b333e4c"
      },
      "outputs": [
        {
          "name": "stdout",
          "output_type": "stream",
          "text": [
            "List:  [10, 20, 30, 40, 50, 60, 70, 80]\n",
            "After adding elements:  [10, 20, 30, 40, 50, 60, 70, 80, 200, 300]\n",
            "After removing elements:  [20, 40, 50, 60, 70, 80, 200, 300]\n",
            "After sorting:  [20, 40, 50, 60, 70, 80, 200, 300]\n",
            "After sorting in reverse order:  [300, 200, 80, 70, 60, 50, 40, 20]\n"
          ]
        }
      ],
      "source": [
        "L = [10, 20, 30, 40, 50, 60, 70, 80]\n",
        "print(\"List: \", L)\n",
        "\n",
        "L.append(200)\n",
        "L.append(300)\n",
        "print(\"After adding elements: \",L)\n",
        "L.remove(10)\n",
        "L.remove(30)\n",
        "print(\"After removing elements: \",L)\n",
        "L.sort()\n",
        "print(\"After sorting: \",L)\n",
        "\n",
        "L.sort(reverse = True)\n",
        "print(\"After sorting in reverse order: \",L)"
      ]
    },
    {
      "cell_type": "markdown",
      "id": "b6c531d3-1869-4e8d-9611-f56fb0e54e44",
      "metadata": {
        "id": "b6c531d3-1869-4e8d-9611-f56fb0e54e44"
      },
      "source": [
        "---------------------------------------------------------------------------------------------------------------------------------------------\n",
        "2. Create a tuple of marks scored as scores = (45, 89.5, 76, 45.4, 89, 92, 58, 45) and\n",
        "perform the following operations using tuple functions:\n",
        "i. Identify the highest score and its index in the tuple.\n",
        "ii. Find the lowest score and count how many times it appears.\n",
        "iii. Reverse the tuple and return it as a list.\n",
        "iv. Check if a specific score ‘76’ (input by the user) is present in the tuple and\n",
        "print its first occurrence index, or a message saying it’s not present.\n",
        "---------------------------------------------------------------------------------------------------------------------------------------------"
      ]
    },
    {
      "cell_type": "code",
      "execution_count": null,
      "id": "10f16578-dbec-4a20-b77c-bfb0913d813d",
      "metadata": {
        "id": "10f16578-dbec-4a20-b77c-bfb0913d813d",
        "outputId": "0202880b-a71a-4ea8-937e-770f8083a5c7"
      },
      "outputs": [
        {
          "name": "stdout",
          "output_type": "stream",
          "text": [
            "Highest Score: 92 at Index: 5\n",
            "Lowest Score: 45, Count: 2\n",
            "Reversed Tuple as List: [45, 58, 92, 89, 45.4, 76, 89.5, 45]\n"
          ]
        },
        {
          "name": "stdin",
          "output_type": "stream",
          "text": [
            " 76\n"
          ]
        },
        {
          "name": "stdout",
          "output_type": "stream",
          "text": [
            "Score 76 is present at index: 2\n"
          ]
        }
      ],
      "source": [
        "scores = (45, 89.5, 76, 45.4, 89, 92, 58, 45)\n",
        "\n",
        "highest_score = max(scores)\n",
        "highest_index = scores.index(highest_score)\n",
        "print(f\"Highest Score: {highest_score} at Index: {highest_index}\")\n",
        "\n",
        "lowest_score = min(scores)\n",
        "lowest_count = scores.count(lowest_score)\n",
        "print(f\"Lowest Score: {lowest_score}, Count: {lowest_count}\")\n",
        "li = reversed(scores)\n",
        "reversed_list = list(li)\n",
        "print(f\"Reversed Tuple as List: {reversed_list}\")\n",
        "user_input = int(input())\n",
        "\n",
        "if user_input in scores:\n",
        "    first_occurrence = scores.index(user_input)\n",
        "    print(f\"Score {user_input} is present at index: {first_occurrence}\")\n",
        "else:\n",
        "    print(f\"Score {user_input} is not present in the tuple.\")"
      ]
    },
    {
      "cell_type": "markdown",
      "id": "04cec809-8414-4d61-893d-f1576c20b223",
      "metadata": {
        "id": "04cec809-8414-4d61-893d-f1576c20b223"
      },
      "source": [
        "---------------------------------------------------------------------------------------------------------------------------------------------\n",
        "3. WAP to create a list of 100 random numbers between 100 and 900. Count and print\n",
        "   the:\n",
        "       i. All odd numbers\n",
        "       ii. All even numbers\n",
        "       iii. All prime numbers\n",
        "---------------------------------------------------------------------------------------------------------------------------------------------"
      ]
    },
    {
      "cell_type": "code",
      "execution_count": null,
      "id": "60addcdd-5cff-4cc0-84c5-c2ee97f71320",
      "metadata": {
        "id": "60addcdd-5cff-4cc0-84c5-c2ee97f71320",
        "outputId": "f78b864b-600e-4071-b359-086af6fa3a5e"
      },
      "outputs": [
        {
          "name": "stdout",
          "output_type": "stream",
          "text": [
            "Odd numbers: 56 :  [101, 107, 111, 117, 129, 145, 145, 169, 211, 255, 293, 307, 353, 359, 371, 375, 377, 379, 379, 391, 427, 429, 429, 433, 463, 465, 467, 471, 509, 519, 531, 533, 551, 573, 581, 583, 597, 629, 637, 641, 655, 667, 673, 679, 685, 689, 721, 737, 745, 757, 805, 815, 821, 823, 857, 859]\n",
            "\n",
            "\n",
            "Even numbers: 44 :  [116, 124, 130, 164, 180, 262, 276, 316, 326, 334, 364, 432, 440, 440, 446, 456, 460, 460, 464, 492, 502, 512, 520, 536, 540, 548, 550, 556, 570, 590, 610, 626, 628, 638, 650, 664, 680, 692, 720, 724, 760, 824, 834, 892]\n",
            "\n",
            "\n",
            "Prime numbers : 20 :  [101, 107, 211, 293, 307, 353, 359, 379, 379, 433, 463, 467, 509, 641, 673, 757, 821, 823, 857, 859]\n"
          ]
        }
      ],
      "source": [
        "import random\n",
        "\n",
        "def is_prime(num):\n",
        "    if num < 2:\n",
        "        return False\n",
        "    for i in range(2, int(num * 0.5) + 1):\n",
        "        if num % i == 0:\n",
        "            return False\n",
        "    return True\n",
        "\n",
        "random_numbers = [random.randint(100, 900) for _ in range(100)]\n",
        "odd_numbers = [num for num in random_numbers if num % 2 != 0]\n",
        "even_numbers = [num for num in random_numbers if num % 2 == 0]\n",
        "prime_numbers = [num for num in random_numbers if is_prime(num)]\n",
        "odd_numbers.sort()\n",
        "even_numbers.sort()\n",
        "prime_numbers.sort()\n",
        "\n",
        "print(\"Odd numbers:\", len(odd_numbers),\": \", odd_numbers)\n",
        "print(\"\\n\")\n",
        "print(\"Even numbers:\", len(even_numbers), \": \",even_numbers)\n",
        "print(\"\\n\")\n",
        "print(\"Prime numbers :\", len(prime_numbers),\": \", prime_numbers)"
      ]
    },
    {
      "cell_type": "markdown",
      "id": "7dbd6513-42f6-47d3-9df2-ec111aa18431",
      "metadata": {
        "id": "7dbd6513-42f6-47d3-9df2-ec111aa18431"
      },
      "source": [
        "---------------------------------------------------------------------------------------------------------------------------------------------\n",
        "4.  Consider the following two sets, A and B, representing scores of two teams in multiple\n",
        "    matches. A = {34, 56, 78, 90} and B = {78, 45, 90, 23}\n",
        "    WAP to perform the following operations using set funcƟons:\n",
        "    i. Find the unique scores achieved by both teams (union of sets).\n",
        "    ii. Identify the scores that are common to both teams (intersection of sets).\n",
        "    iii. Find the scores that are exclusive to each team (symmetric difference).\n",
        "    iv. Check if the scores of team A are a subset of team B, and if team B's scores are\n",
        "    a superset of team A.\n",
        "    v. Remove a specific score X (input by the user) from set A if it exists. If not, print\n",
        "    a message saying it is not present.\n",
        "---------------------------------------------------------------------------------------------------------------------------------------------"
      ]
    },
    {
      "cell_type": "code",
      "execution_count": null,
      "id": "62f44b81-f8ee-490c-be87-7b3c5743e5ea",
      "metadata": {
        "id": "62f44b81-f8ee-490c-be87-7b3c5743e5ea",
        "outputId": "e487ec4f-1323-45e3-a94b-1ba2d13f6997"
      },
      "outputs": [
        {
          "name": "stdout",
          "output_type": "stream",
          "text": [
            "Unique Scores: {34, 45, 78, 23, 56, 90}\n",
            "Common Scores: {90, 78}\n",
            "Exclusive Scores: {34, 45, 23, 56}\n",
            "Team A's scores a subset of Team B: False\n",
            "Team B's scores a superset of Team A: False\n"
          ]
        },
        {
          "name": "stdin",
          "output_type": "stream",
          "text": [
            "Enter a score to remove from Team A:  56\n"
          ]
        },
        {
          "name": "stdout",
          "output_type": "stream",
          "text": [
            "Score 56 removed from Team A. \n",
            "Updated Team A scores: {34, 90, 78}\n"
          ]
        }
      ],
      "source": [
        "A = {34, 56, 78, 90}\n",
        "B = {78, 45, 90, 23}\n",
        "\n",
        "unique_scores = A.union(B)\n",
        "common_scores = A.intersection(B)\n",
        "exclusive_scores = A.symmetric_difference(B)\n",
        "is_subset = A.issubset(B)\n",
        "is_superset = B.issuperset(A)\n",
        "\n",
        "print(f\"Unique Scores: {unique_scores}\")\n",
        "print(f\"Common Scores: {common_scores}\")\n",
        "print(f\"Exclusive Scores: {exclusive_scores}\")\n",
        "print(f\"Team A's scores a subset of Team B: {is_subset}\")\n",
        "print(f\"Team B's scores a superset of Team A: {is_superset}\")\n",
        "\n",
        "X = int(input(\"Enter a score to remove from Team A: \"))\n",
        "if X in A:\n",
        "    A.remove(X)\n",
        "    print(f\"Score {X} removed from Team A. \\nUpdated Team A scores: {A}\")\n",
        "else:\n",
        "    print(f\"Score {X} is not present in Team A.\")"
      ]
    },
    {
      "cell_type": "markdown",
      "id": "664babe4-ea19-4f87-bf7e-8df6f4d57fda",
      "metadata": {
        "id": "664babe4-ea19-4f87-bf7e-8df6f4d57fda"
      },
      "source": [
        "---------------------------------------------------------------------------------------------------------------------------------------------\n",
        "5. Write a program to rename a key city to a location in the following dictionary.\n",
        "---------------------------------------------------------------------------------------------------------------------------------------------"
      ]
    },
    {
      "cell_type": "code",
      "execution_count": null,
      "id": "2c70ed44-de19-4f03-8203-50371366d4bf",
      "metadata": {
        "id": "2c70ed44-de19-4f03-8203-50371366d4bf",
        "outputId": "5e473d97-34ad-41c8-ab2b-7267254cdfeb"
      },
      "outputs": [
        {
          "name": "stdout",
          "output_type": "stream",
          "text": [
            "{'name': 'Kelly', 'age': 25, 'salary': 8000, 'location': 'New York'}\n"
          ]
        }
      ],
      "source": [
        "sample_dict = {\n",
        "    \"name\": \"Kelly\",\n",
        "    \"age\": 25,\n",
        "    \"salary\": 8000,\n",
        "    \"city\": \"New York\"\n",
        "}\n",
        "sample_dict[\"location\"] = sample_dict[\"city\"]\n",
        "del sample_dict[\"city\"]\n",
        "\n",
        "print(sample_dict)"
      ]
    }
  ],
  "metadata": {
    "kernelspec": {
      "display_name": "Python [conda env:base] *",
      "language": "python",
      "name": "conda-base-py"
    },
    "language_info": {
      "codemirror_mode": {
        "name": "ipython",
        "version": 3
      },
      "file_extension": ".py",
      "mimetype": "text/x-python",
      "name": "python",
      "nbconvert_exporter": "python",
      "pygments_lexer": "ipython3",
      "version": "3.12.7"
    },
    "colab": {
      "provenance": []
    }
  },
  "nbformat": 4,
  "nbformat_minor": 5
}